{
 "cells": [
  {
   "cell_type": "markdown",
   "metadata": {},
   "source": [
    "## Difference B/W API and Web API ?"
   ]
  },
  {
   "cell_type": "markdown",
   "metadata": {},
   "source": [
    "**Purpose :** Purpose of creating API is simple, establishsing a communication between two different-different systems."
   ]
  },
  {
   "cell_type": "markdown",
   "metadata": {},
   "source": [
    "| **API** | **Web API** |\n",
    "|---------|-------------|\n",
    "| Api is something which we try to create may be with the help of TCP (protocol), SMTP (protocol) or may be with HTTP (protocol)| Web Api is something which will be able to create just by using a HTTP (protocol) |\n",
    "\n",
    "\n",
    "- **Protocol:** protocol is nothing but a set of rules.\n",
    "- **TCP :** Transmission Control Protocol\n",
    "- **SMTP :** Simple Mail Transfer Protocol\n",
    "- **HTTP :** Hyper Text Transfer Protocol"
   ]
  },
  {
   "cell_type": "markdown",
   "metadata": {},
   "source": [
    "API is simply mean is that creating something by which we can communicate between a two homogeneous or hetrogeneous system.\n",
    "\n",
    "- **Homogeneous :** framework is same , language is same (similar) that is homogeneous.\n",
    "- **Hetrogeneous :** framework is different or may be libraries are different or may be languages are different that is hetrogeneous."
   ]
  },
  {
   "cell_type": "code",
   "execution_count": null,
   "metadata": {},
   "outputs": [],
   "source": []
  }
 ],
 "metadata": {
  "language_info": {
   "name": "python"
  }
 },
 "nbformat": 4,
 "nbformat_minor": 2
}
