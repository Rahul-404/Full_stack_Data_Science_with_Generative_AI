{
 "cells": [
  {
   "cell_type": "markdown",
   "metadata": {},
   "source": [
    "## RestFul Services"
   ]
  },
  {
   "cell_type": "markdown",
   "metadata": {},
   "source": [
    "RESTful services, also known as RESTful APIs, are web services that follow the REST architechtural style. REST stands for Representational State Transfer, which is a set of priciples for building web services that use HTTP(Hyper Text Transfer Protocol) as the communication protocol."
   ]
  },
  {
   "cell_type": "markdown",
   "metadata": {},
   "source": [
    "RESTful services are based on the following principles:\n",
    "\n",
    "- **Client-server architecture:** The client and server are separated, allowing them to evolve independently.\n",
    "\n",
    "- **Stateless:** Each request sent to the server contains all the information needed to complete the request. The server does not maintain any client context between reuests.\n",
    "\n",
    "- **Cacheable:** Responses from the server can be cached to improve performance.\n",
    "\n",
    "- **Uniform Interface:** RESTful services use a uniform interface consisting of resources, HTTP verbs (GET, POST, PUT, DELETE) and hypermedia links.\n",
    "\n",
    "- **Layered System:** RESTful services can be composed of multiple layers, allowing scalability, flexibility and security.\n"
   ]
  }
 ],
 "metadata": {
  "language_info": {
   "name": "python"
  }
 },
 "nbformat": 4,
 "nbformat_minor": 2
}
