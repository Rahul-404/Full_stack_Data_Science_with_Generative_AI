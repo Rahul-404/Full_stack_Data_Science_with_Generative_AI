{
 "cells": [
  {
   "cell_type": "markdown",
   "metadata": {},
   "source": [
    "## REST and SOAP Architecture"
   ]
  },
  {
   "cell_type": "markdown",
   "metadata": {},
   "source": [
    "- Rest concept and Soap concept comes in between while creating an API\n",
    "\n",
    "- REST is called Representational State Transfer.\n",
    "\n",
    "- SOAP is called Simple Object Access Protocol.\n",
    "\n",
    "- Both is been used to create an API.\n",
    "\n",
    "- Both are going to use an different=different set of protocol, its not going to be same.\n",
    "\n",
    "    | Factors  | **REST** | **SOAP** |\n",
    "    | -------- | -------- | -------- |\n",
    "    | Protocol Used | HTTP | TCP-IP, SMTP |\n",
    "    | Functions | `PUT, GET< POST, DELETE` | |\n",
    "    | Simplicity | Yes | Complex (Not simple as rest) |\n",
    "    | Scalabe | Easily | Complex (Not simple as rest)|\n",
    "    | Flexibility | More | Less |\n",
    "    | MSG Transfer | Less Secure| XML |\n",
    "    | Rules | HTTP | WSDL (web service descritpion language)|\n",
    "    | Which to choose? | Priority: scalability, flexibility, simplicity | Priority: data security, data privacy |"
   ]
  },
  {
   "cell_type": "code",
   "execution_count": null,
   "metadata": {},
   "outputs": [],
   "source": []
  }
 ],
 "metadata": {
  "language_info": {
   "name": "python"
  }
 },
 "nbformat": 4,
 "nbformat_minor": 2
}
