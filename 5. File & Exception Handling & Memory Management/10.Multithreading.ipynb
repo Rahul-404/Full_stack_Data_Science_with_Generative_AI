{
 "cells": [
  {
   "cell_type": "markdown",
   "metadata": {},
   "source": [
    "### Q. What happens when we are going to create a program w.r.t threading ?\n",
    "\n",
    "- Let's say we have computer with 4 cores internally, mean i hace `Quad-Core Computer`,\n",
    "- Let's save out each core is executing program/application with respect to each core. All this programs will execute in different cores basically\n",
    "- Suppose we have to execute the Program-1/ application-1 in processor 1 for 4-5 times on same core,Now Question arises how will i able to do this ?\n",
    "    - this is where concept of threading comes into picture.\n",
    "    - It will do , try to create multiple threads or it will try to create multiple processes or sub processes of the same programs on same core and parallely(not say parallely but in a consequtive manner it will going to execute it one-by-one or may be one program partially or for fcation of time and then move to another program 2 and then next so on and so forth) \n",
    "\n",
    "Let's try to code and see how this things work in exact manner"
   ]
  },
  {
   "cell_type": "code",
   "execution_count": 1,
   "metadata": {},
   "outputs": [],
   "source": [
    "import threading"
   ]
  },
  {
   "cell_type": "code",
   "execution_count": 7,
   "metadata": {},
   "outputs": [],
   "source": [
    "def test(id):\n",
    "    print(\"this is my test id %d\" % id)"
   ]
  },
  {
   "cell_type": "code",
   "execution_count": 8,
   "metadata": {},
   "outputs": [
    {
     "name": "stdout",
     "output_type": "stream",
     "text": [
      "this is my test id 10\n"
     ]
    }
   ],
   "source": [
    "# pass some values in test\n",
    "test(10)"
   ]
  },
  {
   "cell_type": "code",
   "execution_count": 9,
   "metadata": {},
   "outputs": [
    {
     "name": "stdout",
     "output_type": "stream",
     "text": [
      "this is my test id 1\n"
     ]
    }
   ],
   "source": [
    "# pass some values in test\n",
    "test(1)"
   ]
  },
  {
   "cell_type": "code",
   "execution_count": 10,
   "metadata": {},
   "outputs": [
    {
     "name": "stdout",
     "output_type": "stream",
     "text": [
      "this is my test id 3\n"
     ]
    }
   ],
   "source": [
    "#again pass some values in test\n",
    "test(3)"
   ]
  },
  {
   "cell_type": "markdown",
   "metadata": {},
   "source": [
    "- what if we would like to call all this function together or simultaneously `test(10)`, `test(1)` and `test(3)`\n",
    "\n",
    "### Q. How we will be able to do this ?\n",
    "\n",
    "- this implementation is possible with the help of `thread`\n",
    "\n",
    "- we are going to create a thread variable, with `target` as function , and `args` as values to functions"
   ]
  },
  {
   "cell_type": "code",
   "execution_count": 60,
   "metadata": {},
   "outputs": [],
   "source": [
    "thred = [threading.Thread(target=test, args=(i,)) for i in [10, 1, 3]]"
   ]
  },
  {
   "cell_type": "code",
   "execution_count": 62,
   "metadata": {},
   "outputs": [
    {
     "data": {
      "text/plain": [
       "[<Thread(Thread-110 (test), initial)>,\n",
       " <Thread(Thread-111 (test), initial)>,\n",
       " <Thread(Thread-112 (test), initial)>]"
      ]
     },
     "execution_count": 62,
     "metadata": {},
     "output_type": "execute_result"
    }
   ],
   "source": [
    "thred # create 3 threads"
   ]
  },
  {
   "cell_type": "code",
   "execution_count": 63,
   "metadata": {},
   "outputs": [
    {
     "name": "stdout",
     "output_type": "stream",
     "text": [
      "this is my test id 10\n",
      "this is my test id 1\n",
      "this is my test id 3\n"
     ]
    }
   ],
   "source": [
    "# accessing all threads\n",
    "for t in thred:\n",
    "    t.start()"
   ]
  },
  {
   "cell_type": "markdown",
   "metadata": {},
   "source": [
    "- Technically we have one program and we executed same function 3 time with different inputs.\n",
    "- Beauty of this threading is that, all the functions are executing on a single core by default."
   ]
  },
  {
   "cell_type": "markdown",
   "metadata": {},
   "source": [
    "### Requirement: I havwe 3 links and in those 3 links i have a data, no some one is asking us to write a program so which will be able to fetch this data from provided those 3 links, and then it will be able store that data in our the local system\n",
    "\n",
    "### How we are going to do that ?"
   ]
  },
  {
   "cell_type": "code",
   "execution_count": 71,
   "metadata": {},
   "outputs": [],
   "source": [
    "link1 = \"https://raw.githubusercontent.com/Rahul-404/Full_stack_Data_Science_with_Generative_AI/main/5.%20File%20%26%20Exception%20Handling%20%26%20Memory%20Management/data1.txt\"\n",
    "link2 = \"https://raw.githubusercontent.com/Rahul-404/Full_stack_Data_Science_with_Generative_AI/main/5.%20File%20%26%20Exception%20Handling%20%26%20Memory%20Management/data2.txt\"\n",
    "link3 = \"https://raw.githubusercontent.com/Rahul-404/Full_stack_Data_Science_with_Generative_AI/main/5.%20File%20%26%20Exception%20Handling%20%26%20Memory%20Management/data3.txt\""
   ]
  },
  {
   "cell_type": "markdown",
   "metadata": {},
   "source": [
    "- following function will get the data from provided linke and fetch it to filename provided in our local system"
   ]
  },
  {
   "cell_type": "code",
   "execution_count": 72,
   "metadata": {},
   "outputs": [],
   "source": [
    "import urllib.request\n",
    "\n",
    "def file_download(url , filename):\n",
    "    urllib.request.urlretrieve(url, filename)"
   ]
  },
  {
   "cell_type": "code",
   "execution_count": 74,
   "metadata": {},
   "outputs": [],
   "source": [
    "file_download( link1, 'fetched_data1.txt')"
   ]
  },
  {
   "cell_type": "markdown",
   "metadata": {},
   "source": [
    "- now we can find a file with given `filename` in our local system"
   ]
  },
  {
   "cell_type": "markdown",
   "metadata": {},
   "source": [
    "- Now we have to fetch data from 3 diffrenet url and save it locally, but by using the efficiency of a threading concept."
   ]
  },
  {
   "cell_type": "code",
   "execution_count": 75,
   "metadata": {},
   "outputs": [],
   "source": [
    "# creating url list\n",
    "url_list = [link1, link2, link3]"
   ]
  },
  {
   "cell_type": "code",
   "execution_count": 87,
   "metadata": {},
   "outputs": [],
   "source": [
    "thread1 = [threading.Thread(target=file_download, args=(link, f'fetched_data{idx}.txt')) for idx, link in enumerate(url_list)]"
   ]
  },
  {
   "cell_type": "code",
   "execution_count": 88,
   "metadata": {},
   "outputs": [],
   "source": [
    "for t in thread1:\n",
    "    t.start()"
   ]
  },
  {
   "cell_type": "markdown",
   "metadata": {},
   "source": [
    "- `we are not calling function 3 times`\n",
    "- we are creating one thread with 3 different input values and that one thread is getting executed on one core"
   ]
  },
  {
   "cell_type": "code",
   "execution_count": 89,
   "metadata": {},
   "outputs": [
    {
     "data": {
      "text/plain": [
       "[<Thread(Thread-264 (file_download), stopped 6251229184)>,\n",
       " <Thread(Thread-265 (file_download), stopped 6268055552)>,\n",
       " <Thread(Thread-266 (file_download), stopped 6284881920)>]"
      ]
     },
     "execution_count": 89,
     "metadata": {},
     "output_type": "execute_result"
    }
   ],
   "source": [
    "thread1"
   ]
  },
  {
   "cell_type": "markdown",
   "metadata": {},
   "source": [
    "- we are able to achive our objective with threading"
   ]
  },
  {
   "cell_type": "markdown",
   "metadata": {},
   "source": [
    "### Let's try to play with in threading"
   ]
  },
  {
   "cell_type": "code",
   "execution_count": 81,
   "metadata": {},
   "outputs": [],
   "source": [
    "import time"
   ]
  },
  {
   "cell_type": "code",
   "execution_count": 82,
   "metadata": {},
   "outputs": [],
   "source": [
    "def test2(x):\n",
    "    for i in range(10):\n",
    "        print(\" test1 print the value of x %d and print the value of i %d \" %(x, i))"
   ]
  },
  {
   "cell_type": "code",
   "execution_count": 83,
   "metadata": {},
   "outputs": [
    {
     "name": "stdout",
     "output_type": "stream",
     "text": [
      " test1 print the value of x 10 and print the value of i 0 \n",
      " test1 print the value of x 10 and print the value of i 1 \n",
      " test1 print the value of x 10 and print the value of i 2 \n",
      " test1 print the value of x 10 and print the value of i 3 \n",
      " test1 print the value of x 10 and print the value of i 4 \n",
      " test1 print the value of x 10 and print the value of i 5 \n",
      " test1 print the value of x 10 and print the value of i 6 \n",
      " test1 print the value of x 10 and print the value of i 7 \n",
      " test1 print the value of x 10 and print the value of i 8 \n",
      " test1 print the value of x 10 and print the value of i 9 \n"
     ]
    }
   ],
   "source": [
    "test2(10)"
   ]
  },
  {
   "cell_type": "markdown",
   "metadata": {},
   "source": [
    "- Now in `test2` with input 10 it is printing all values from 0 to 9, linearly because it is executing the for loop"
   ]
  },
  {
   "cell_type": "code",
   "execution_count": 84,
   "metadata": {},
   "outputs": [
    {
     "name": "stdout",
     "output_type": "stream",
     "text": [
      " test1 print the value of x 2 and print the value of i 0 \n",
      " test1 print the value of x 2 and print the value of i 1 \n",
      " test1 print the value of x 2 and print the value of i 2 \n",
      " test1 print the value of x 2 and print the value of i 3 \n",
      " test1 print the value of x 2 and print the value of i 4 \n",
      " test1 print the value of x 2 and print the value of i 5 \n",
      " test1 print the value of x 2 and print the value of i 6 \n",
      " test1 print the value of x 2 and print the value of i 7 \n",
      " test1 print the value of x 2 and print the value of i 8 \n",
      " test1 print the value of x 2 and print the value of i 9 \n"
     ]
    }
   ],
   "source": [
    "test2(2)"
   ]
  },
  {
   "cell_type": "markdown",
   "metadata": {},
   "source": [
    "- for any input it is printing all 10 prints\n",
    "\n",
    "- Now if we add sleep time of one second then\n"
   ]
  },
  {
   "cell_type": "code",
   "execution_count": 85,
   "metadata": {},
   "outputs": [],
   "source": [
    "def test2(x):\n",
    "    for i in range(10):\n",
    "        print(\" test1 print the value of x %d and print the value of i %d \" %(x, i))\n",
    "        time.sleep(1)"
   ]
  },
  {
   "cell_type": "code",
   "execution_count": 86,
   "metadata": {},
   "outputs": [
    {
     "name": "stdout",
     "output_type": "stream",
     "text": [
      " test1 print the value of x 10 and print the value of i 0 \n",
      " test1 print the value of x 10 and print the value of i 1 \n",
      " test1 print the value of x 10 and print the value of i 2 \n",
      " test1 print the value of x 10 and print the value of i 3 \n",
      " test1 print the value of x 10 and print the value of i 4 \n",
      " test1 print the value of x 10 and print the value of i 5 \n",
      " test1 print the value of x 10 and print the value of i 6 \n",
      " test1 print the value of x 10 and print the value of i 7 \n",
      " test1 print the value of x 10 and print the value of i 8 \n",
      " test1 print the value of x 10 and print the value of i 9 \n"
     ]
    }
   ],
   "source": [
    "test2(10)"
   ]
  },
  {
   "cell_type": "markdown",
   "metadata": {},
   "source": [
    "- we can observe while executing above cell that it is printing and then sleeping for some time i.e one second"
   ]
  },
  {
   "cell_type": "markdown",
   "metadata": {},
   "source": [
    "### Now someone has given me a task, what if you have multiple inputs. sometimes 2, 100, or 1000 as input inside this function and we have to execute all of this things simultaneously (not one by one) , so what will i do ?\n",
    "\n",
    "-> i will create under that thread will try to execute thread will multiple inputs "
   ]
  },
  {
   "cell_type": "code",
   "execution_count": 90,
   "metadata": {},
   "outputs": [],
   "source": [
    "thread2 = [threading.Thread(target=test2, args=(i,)) for i in [100, 10, 20, 5]]"
   ]
  },
  {
   "cell_type": "code",
   "execution_count": 91,
   "metadata": {},
   "outputs": [
    {
     "name": "stdout",
     "output_type": "stream",
     "text": [
      " test1 print the value of x 100 and print the value of i 0 \n",
      " test1 print the value of x 10 and print the value of i 0 \n",
      " test1 print the value of x 20 and print the value of i 0 \n",
      " test1 print the value of x 5 and print the value of i 0 \n"
     ]
    },
    {
     "name": "stdout",
     "output_type": "stream",
     "text": [
      " test1 print the value of x 100 and print the value of i 1 \n",
      " test1 print the value of x 10 and print the value of i 1 \n",
      " test1 print the value of x 20 and print the value of i 1 \n",
      " test1 print the value of x 5 and print the value of i 1 \n",
      " test1 print the value of x 100 and print the value of i 2 \n",
      " test1 print the value of x 10 and print the value of i 2 \n",
      " test1 print the value of x 20 and print the value of i 2 \n",
      " test1 print the value of x 5 and print the value of i 2 \n",
      " test1 print the value of x 100 and print the value of i 3 \n",
      " test1 print the value of x 10 and print the value of i 3 \n",
      " test1 print the value of x 20 and print the value of i 3 \n",
      " test1 print the value of x 5 and print the value of i 3 \n",
      " test1 print the value of x 100 and print the value of i 4 \n",
      " test1 print the value of x 20 and print the value of i 4 \n",
      " test1 print the value of x 5 and print the value of i 4 \n",
      " test1 print the value of x 10 and print the value of i 4 \n",
      " test1 print the value of x 5 and print the value of i 5  test1 print the value of x 100 and print the value of i 5 \n",
      " test1 print the value of x 20 and print the value of i 5 \n",
      "\n",
      " test1 print the value of x 10 and print the value of i 5 \n",
      " test1 print the value of x 100 and print the value of i 6 \n",
      " test1 print the value of x 5 and print the value of i 6 \n",
      " test1 print the value of x 20 and print the value of i 6 \n",
      " test1 print the value of x 10 and print the value of i 6 \n",
      " test1 print the value of x 100 and print the value of i 7  test1 print the value of x 5 and print the value of i 7 \n",
      "\n",
      " test1 print the value of x 20 and print the value of i 7 \n",
      " test1 print the value of x 10 and print the value of i 7 \n",
      " test1 print the value of x 5 and print the value of i 8  test1 print the value of x 100 and print the value of i 8 \n",
      " test1 print the value of x 20 and print the value of i 8 \n",
      "\n",
      " test1 print the value of x 10 and print the value of i 8 \n",
      " test1 print the value of x 20 and print the value of i 9  test1 print the value of x 5 and print the value of i 9 \n",
      " test1 print the value of x 100 and print the value of i 9 \n",
      "\n",
      " test1 print the value of x 10 and print the value of i 9 \n"
     ]
    }
   ],
   "source": [
    "for t in thread2:\n",
    "    t.start()"
   ]
  },
  {
   "cell_type": "markdown",
   "metadata": {},
   "source": [
    "- as we have seen above, that thread when started execution, it is not trying to excute the one program completely\n",
    "- it is trying to execute each program with different-different input parallay\n",
    "- it is executing `test2` with `100` and then going for sleep then with `10` then sleep , then with `20` then sleep, then with `20` then going to sleep, then with `5` and just providing 1st output of each input\n",
    "- then next output for each function execution parallaly\n",
    "- all programs are utilizing the resources one by one for one second in `Round Robin` Fashion.\n",
    "- it is executing each program parallaly\n"
   ]
  },
  {
   "cell_type": "markdown",
   "metadata": {},
   "source": [
    "#### But , What is i comment down the `sleep(1)` then what will happen ?"
   ]
  },
  {
   "cell_type": "code",
   "execution_count": 96,
   "metadata": {},
   "outputs": [],
   "source": [
    "def test2(x):\n",
    "    for i in range(10):\n",
    "        print(\" test1 print the value of x %d and print the value of i %d \" %(x, i))\n",
    "        # time.sleep(1)"
   ]
  },
  {
   "cell_type": "code",
   "execution_count": 97,
   "metadata": {},
   "outputs": [],
   "source": [
    "thread2 = [threading.Thread(target=test2, args=(i,)) for i in [100, 10, 20, 5]]"
   ]
  },
  {
   "cell_type": "code",
   "execution_count": 98,
   "metadata": {},
   "outputs": [
    {
     "name": "stdout",
     "output_type": "stream",
     "text": [
      " test1 print the value of x 100 and print the value of i 0 \n",
      " test1 print the value of x 100 and print the value of i 1 \n",
      " test1 print the value of x 100 and print the value of i 2 \n",
      " test1 print the value of x 100 and print the value of i 3 \n",
      " test1 print the value of x 100 and print the value of i 4 \n",
      " test1 print the value of x 100 and print the value of i 5 \n",
      " test1 print the value of x 100 and print the value of i 6 \n",
      " test1 print the value of x 100 and print the value of i 7 \n",
      " test1 print the value of x 100 and print the value of i 8 \n",
      " test1 print the value of x 100 and print the value of i 9 \n",
      " test1 print the value of x 10 and print the value of i 0 \n",
      " test1 print the value of x 10 and print the value of i 1 \n",
      " test1 print the value of x 10 and print the value of i 2 \n",
      " test1 print the value of x 10 and print the value of i 3 \n",
      " test1 print the value of x 10 and print the value of i 4 \n",
      " test1 print the value of x 10 and print the value of i 5 \n",
      " test1 print the value of x 10 and print the value of i 6 \n",
      " test1 print the value of x 10 and print the value of i 7 \n",
      " test1 print the value of x 10 and print the value of i 8 \n",
      " test1 print the value of x 10 and print the value of i 9 \n",
      " test1 print the value of x 20 and print the value of i 0 \n",
      " test1 print the value of x 20 and print the value of i 1 \n",
      " test1 print the value of x 20 and print the value of i 2 \n",
      " test1 print the value of x 20 and print the value of i 3 \n",
      " test1 print the value of x 20 and print the value of i 4 \n",
      " test1 print the value of x 20 and print the value of i 5 \n",
      " test1 print the value of x 20 and print the value of i 6 \n",
      " test1 print the value of x 20 and print the value of i 7 \n",
      " test1 print the value of x 20 and print the value of i 8 \n",
      " test1 print the value of x 20 and print the value of i 9 \n",
      " test1 print the value of x 5 and print the value of i 0 \n",
      " test1 print the value of x 5 and print the value of i 1 \n",
      " test1 print the value of x 5 and print the value of i 2 \n",
      " test1 print the value of x 5 and print the value of i 3 \n",
      " test1 print the value of x 5 and print the value of i 4 \n",
      " test1 print the value of x 5 and print the value of i 5 \n",
      " test1 print the value of x 5 and print the value of i 6 \n",
      " test1 print the value of x 5 and print the value of i 7 \n",
      " test1 print the value of x 5 and print the value of i 8 \n",
      " test1 print the value of x 5 and print the value of i 9 \n"
     ]
    }
   ],
   "source": [
    "for t in thread2:\n",
    "    t.start()"
   ]
  },
  {
   "cell_type": "markdown",
   "metadata": {},
   "source": [
    "- as we can see all executed sequentially"
   ]
  },
  {
   "cell_type": "markdown",
   "metadata": {},
   "source": [
    "```\n",
    "if time.sleep(1):\n",
    "    Parallel Execution: Multi-Threading\n",
    "Else:\n",
    "    Sequential Execution: No Multi-Threading\n",
    "```"
   ]
  },
  {
   "cell_type": "markdown",
   "metadata": {},
   "source": [
    "### Now let's try to understand what we can do with different set of programs?"
   ]
  },
  {
   "cell_type": "markdown",
   "metadata": {},
   "source": [
    "Now let's say we are going to create a program with  a shared variable \n",
    "\n",
    "- here we are seeing concepts of dead lock"
   ]
  },
  {
   "cell_type": "code",
   "execution_count": 110,
   "metadata": {},
   "outputs": [
    {
     "name": "stdout",
     "output_type": "stream",
     "text": [
      "value of x 1 and value of shared_var 1 \n"
     ]
    },
    {
     "name": "stdout",
     "output_type": "stream",
     "text": [
      "value of x 2 and value of shared_var 2 \n",
      "value of x 3 and value of shared_var 3 \n",
      "value of x 4 and value of shared_var 4 \n",
      "value of x 4 and value of shared_var 5 \n",
      "value of x 5 and value of shared_var 6 \n"
     ]
    }
   ],
   "source": [
    "shared_var = 0\n",
    "lock_var = threading.Lock()\n",
    "\n",
    "def test4(x):\n",
    "    global shared_var # in single core we are sharing with global shared variabel\n",
    "    with lock_var :\n",
    "        shared_var = shared_var + 1\n",
    "        print(\"value of x %d and value of shared_var %d \" % (x, shared_var))\n",
    "        time.sleep(1)\n",
    "\n",
    "thread3 = [threading.Thread(target=test4, args=(i,)) for i in [1,2,3,4,4,5]]\n",
    "\n",
    "for t in thread3:\n",
    "    t.start()"
   ]
  },
  {
   "cell_type": "code",
   "execution_count": 103,
   "metadata": {},
   "outputs": [
    {
     "name": "stdout",
     "output_type": "stream",
     "text": [
      "value of x 1 and value of shared_var 4 \n"
     ]
    }
   ],
   "source": [
    "test3(1)"
   ]
  },
  {
   "cell_type": "code",
   "execution_count": 102,
   "metadata": {},
   "outputs": [
    {
     "name": "stdout",
     "output_type": "stream",
     "text": [
      "value of x 2 and value of shared_var 3 \n"
     ]
    }
   ],
   "source": [
    "test3(2)"
   ]
  },
  {
   "cell_type": "markdown",
   "metadata": {},
   "source": [
    "- this show that, how we change the values of shared variable / shared resource"
   ]
  },
  {
   "cell_type": "markdown",
   "metadata": {},
   "source": [
    "Takeways:\n",
    "\n",
    "- How it is helping to execute function faster"
   ]
  },
  {
   "cell_type": "code",
   "execution_count": null,
   "metadata": {},
   "outputs": [],
   "source": []
  }
 ],
 "metadata": {
  "kernelspec": {
   "display_name": "base",
   "language": "python",
   "name": "python3"
  },
  "language_info": {
   "codemirror_mode": {
    "name": "ipython",
    "version": 3
   },
   "file_extension": ".py",
   "mimetype": "text/x-python",
   "name": "python",
   "nbconvert_exporter": "python",
   "pygments_lexer": "ipython3",
   "version": "3.11.7"
  }
 },
 "nbformat": 4,
 "nbformat_minor": 2
}
