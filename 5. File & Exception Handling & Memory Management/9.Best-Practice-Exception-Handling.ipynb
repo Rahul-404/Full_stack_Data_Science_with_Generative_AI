{
 "cells": [
  {
   "cell_type": "markdown",
   "metadata": {},
   "source": [
    "here we will follow best practices to write exception handling, so while writing exception handling keep this things in your mind."
   ]
  },
  {
   "cell_type": "markdown",
   "metadata": {},
   "source": [
    "**1. Use always a specific exceptions**"
   ]
  },
  {
   "cell_type": "code",
   "execution_count": 1,
   "metadata": {},
   "outputs": [
    {
     "name": "stdout",
     "output_type": "stream",
     "text": [
      "division by zero\n"
     ]
    }
   ],
   "source": [
    "try:\n",
    "    10/0\n",
    "except Exception as e:\n",
    "    print(e)"
   ]
  },
  {
   "cell_type": "markdown",
   "metadata": {},
   "source": [
    "- the above written exception is a general type of exception handling\n",
    "- when ever writing exception , try to write a specifica excaptions, like `ZeorDivisionError`"
   ]
  },
  {
   "cell_type": "code",
   "execution_count": 2,
   "metadata": {},
   "outputs": [
    {
     "name": "stdout",
     "output_type": "stream",
     "text": [
      "division by zero\n"
     ]
    }
   ],
   "source": [
    "try:\n",
    "    10/0\n",
    "except ZeroDivisionError as e:\n",
    "    print(e)"
   ]
  },
  {
   "cell_type": "markdown",
   "metadata": {},
   "source": [
    "- when ever writing exceptions try to specific that is the case, that what kind of exception we are going to recieve\n",
    "- If suppose you not know exception that we are going to recieve , then we can be general as `except Exception as e`"
   ]
  },
  {
   "cell_type": "markdown",
   "metadata": {},
   "source": [
    "**2. Print always a valid msg**"
   ]
  },
  {
   "cell_type": "markdown",
   "metadata": {},
   "source": [
    "- Always try to mesntion a proper message ,at the time of `debugging` others will able to find this messages and they will be able to understand work and nature of your code easiest possible way\n",
    "- in production level code we always write the exption code wil proper message due to high complexity "
   ]
  },
  {
   "cell_type": "code",
   "execution_count": 3,
   "metadata": {},
   "outputs": [
    {
     "name": "stdout",
     "output_type": "stream",
     "text": [
      "this is a zero division error i am handling  division by zero\n"
     ]
    }
   ],
   "source": [
    "try:\n",
    "    10/0\n",
    "except ZeroDivisionError as e:\n",
    "    print(\"this is a zero division error i am handling \", e)"
   ]
  },
  {
   "cell_type": "markdown",
   "metadata": {},
   "source": [
    "**3. Always try to log**"
   ]
  },
  {
   "cell_type": "markdown",
   "metadata": {},
   "source": [
    "- what ever error that we are reciving we alway need to log it\n",
    "- when ever system wil restart , the print message wil be gone\n",
    "- we need to kee log of each message in permanent storage to keep those to handle the error"
   ]
  },
  {
   "cell_type": "code",
   "execution_count": 4,
   "metadata": {},
   "outputs": [],
   "source": [
    "import logging\n",
    "\n",
    "logging.basicConfig(filename=\"error.log\", level=logging.DEBUG)\n",
    "\n",
    "try:    \n",
    "    10/0\n",
    "except ZeroDivisionError as e:\n",
    "    logging.error(\"this is a zero division error i am handling {}\".format(e))"
   ]
  },
  {
   "cell_type": "markdown",
   "metadata": {},
   "source": [
    "**4. Always avoid to write multiple exception handling**"
   ]
  },
  {
   "cell_type": "markdown",
   "metadata": {},
   "source": [
    "- we should avoid errors which we not going to encounter\n",
    "- always stay closest to errors which we are going to encounter"
   ]
  },
  {
   "cell_type": "code",
   "execution_count": 5,
   "metadata": {},
   "outputs": [],
   "source": [
    "try:    \n",
    "    10/0\n",
    "except FileNotFoundError as e:\n",
    "    logging.error(\"this is my file not found {}\".format(e))\n",
    "except AttributeError as e: # we will not encounter this error\n",
    "    logging.error(\"this is my attribute not found {}\".format(e)) # so avoid writing thsi it\n",
    "except ZeroDivisionError as e:\n",
    "    logging.error(\"this is a zero division error i am handling {}\".format(e))"
   ]
  },
  {
   "cell_type": "markdown",
   "metadata": {},
   "source": [
    "**5. Prepare a proper documentation**"
   ]
  },
  {
   "cell_type": "markdown",
   "metadata": {},
   "source": [
    "- which ever code , class, function we write we should keep a documentation of it, for others to use"
   ]
  },
  {
   "cell_type": "markdown",
   "metadata": {},
   "source": [
    "**6. Clean up all resources**"
   ]
  },
  {
   "cell_type": "markdown",
   "metadata": {},
   "source": [
    "- try not to over utilize or under utilize the resources."
   ]
  },
  {
   "cell_type": "code",
   "execution_count": 6,
   "metadata": {},
   "outputs": [],
   "source": [
    "try:\n",
    "    with open(\"text.txt\", \"w\") as f:\n",
    "        f.write(\"this is msg to file\")\n",
    "except FileNotFoundError as e:\n",
    "    logging.error(\"this is my file not found \".format(e))\n",
    "finally:\n",
    "    f.close()"
   ]
  },
  {
   "cell_type": "markdown",
   "metadata": {},
   "source": [
    "- we suppose to clea up the resource , when even there is an erorr in bteween the code, its our resposibility"
   ]
  },
  {
   "cell_type": "markdown",
   "metadata": {},
   "source": []
  }
 ],
 "metadata": {
  "kernelspec": {
   "display_name": "base",
   "language": "python",
   "name": "python3"
  },
  "language_info": {
   "codemirror_mode": {
    "name": "ipython",
    "version": 3
   },
   "file_extension": ".py",
   "mimetype": "text/x-python",
   "name": "python",
   "nbconvert_exporter": "python",
   "pygments_lexer": "ipython3",
   "version": "3.11.7"
  }
 },
 "nbformat": 4,
 "nbformat_minor": 2
}
